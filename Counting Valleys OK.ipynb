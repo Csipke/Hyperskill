{
 "cells": [
  {
   "cell_type": "markdown",
   "source": "# Counting Valleys\n#### Easy\nAn avid hiker keeps meticulous records of their hikes. During the last hike that took exactly $steps$ steps, for every step it was noted if it was an uphill, $U$, or a downhill, $D$ step. Hikes always start and end at sea level, and each step up or down represents a $1$ unit change in altitude. We define the following terms:\n\n* A mountain is a sequence of consecutive steps above sea level, starting with a step up from sea level and ending with a step down to sea level.\n* A valley is a sequence of consecutive steps below sea level, starting with a step down from sea level and ending with a step up to sea level.\n\nGiven the sequence of up and down steps during a hike, find and print the number of valleys walked through.\n\n#### Example\n\n$steps = 8$\n\n$path = [DDUUUUDD]$\n\nThe hiker first enters a valley $2$ units deep. Then they climb out and up onto a mountain $2$ units high. Finally, the hiker returns to sea level and ends the hike.\n\n#### Function Description\n\nComplete the countingValleys function in the editor below.\n\ncountingValleys has the following parameter(s):\n\n* int steps: the number of steps on the hike\n* string path: a string describing the path\n### Returns\n\n* int: the number of valleys traversed\n#### Input Format\n\nThe first line contains an integer $steps$, the number of steps in the hike.\nThe second line contains a single string $path$, of $steps$ characters that describe the path.\n\n#### Constraints\n* $2<= steps <= 10^6$\n\n* $path[i] \\in \\{UD\\}$\n\n#### Sample Input\n\n    8\n    UDDDUDUU\n#### Sample Output\n\n    1\n#### Explanation\n\nIf we represent _ as sea level, a step up as /, and a step down as \\, the hike can be drawn as:\n\n    _/\\      _\n       \\    /\n        \\/\\/\n\n\nThe hiker enters and leaves one valley.",
   "metadata": {
    "tags": [],
    "cell_id": "00001-b4b879cc-f4a8-48bd-b4e3-775116cfc83e",
    "deepnote_cell_type": "markdown"
   }
  },
  {
   "cell_type": "code",
   "metadata": {
    "tags": [],
    "cell_id": "00001-4b015506-4361-407c-85c8-c9ea7d3d72b6",
    "deepnote_to_be_reexecuted": false,
    "source_hash": "6c7e6370",
    "execution_start": 1622116558122,
    "execution_millis": 142747,
    "deepnote_cell_type": "code"
   },
   "source": "def countingValleys(path):\n    level, valley = 0, 0\n    for i in path:\n        if i == 'D':            \n            level -= 1\n        if i == 'U':\n            level += 1\n            if level == 0:\n                valley += 1\n    return valley\n\nprint(countingValleys('DDUUUUDD'))     # 1  (egy nagy völgy)\nprint(countingValleys('DDUDUUU'))      # 1  (egy nagy völgy, közepén egy kisebb magaslattal, ami nem éri el a tengerszintet)\nprint(countingValleys('DDDD'))         # 0  (csak lefelé tart)\nprint(countingValleys('UUUU'))         # 0  (csak felfelé tart)\nprint(countingValleys('DUDUDUDUD'))    # 4  (4 kis völgy)",
   "outputs": [
    {
     "name": "stdout",
     "text": "1\n1\n0\n0\n4\n",
     "output_type": "stream"
    }
   ],
   "execution_count": null
  },
  {
   "cell_type": "markdown",
   "source": "<a style='text-decoration:none;line-height:16px;display:flex;color:#5B5B62;padding:10px;justify-content:end;' href='https://deepnote.com?utm_source=created-in-deepnote-cell&projectId=6fadb111-a668-4ab5-9b02-bfb7d8c9ac7e' target=\"_blank\">\n<img alt='Created in deepnote.com' style='display:inline;max-height:16px;margin:0px;margin-right:7.5px;' src='data:image/svg+xml;base64,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' > </img>\nCreated in <span style='font-weight:600;margin-left:4px;'>Deepnote</span></a>",
   "metadata": {
    "tags": [],
    "created_in_deepnote_cell": true,
    "deepnote_cell_type": "markdown"
   }
  }
 ],
 "nbformat": 4,
 "nbformat_minor": 2,
 "metadata": {
  "orig_nbformat": 2,
  "deepnote": {
   "is_reactive": false
  },
  "deepnote_notebook_id": "3b401d37-f1b5-4ac6-a271-0c96564e6c01",
  "deepnote_execution_queue": []
 }
}